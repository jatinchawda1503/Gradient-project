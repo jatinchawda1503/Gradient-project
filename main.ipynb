{
 "cells": [
  {
   "cell_type": "code",
   "execution_count": 112,
   "outputs": [],
   "source": [
    "def _main_():\n",
    "    while True:\n",
    "        try:\n",
    "            print(\"Enter the values of Coordinates x and y \");\n",
    "            x , y = map(float, input().split());\n",
    "            print(\"Entered Coordinates are x and y \" , [x ,y]);\n",
    "            x0= 2*x*y - y**2\n",
    "            y0= x**2 - 2*x*y\n",
    "            z= [x0,y0]\n",
    "            print( 'The Gradient function Coordinates [x0,y0] are:',z);\n",
    "            break\n",
    "        except ValueError:\n",
    "            print(\"Only int or float allowed\")\n"
   ],
   "metadata": {
    "collapsed": false,
    "pycharm": {
     "name": "#%%\n"
    }
   }
  },
  {
   "cell_type": "code",
   "execution_count": 115,
   "outputs": [
    {
     "name": "stdout",
     "output_type": "stream",
     "text": [
      "Enter the values of Coordinates x and y \n",
      "Entered Coordinates are x and y  [1.0, 1.0]\n",
      "The Gradient function Coordinates [x0,y0] are: [1.0, -1.0]\n"
     ]
    }
   ],
   "source": [
    "_main_()"
   ],
   "metadata": {
    "collapsed": false,
    "pycharm": {
     "name": "#%%\n"
    }
   }
  }
 ],
 "metadata": {
  "kernelspec": {
   "display_name": "Python 3",
   "language": "python",
   "name": "python3"
  },
  "language_info": {
   "codemirror_mode": {
    "name": "ipython",
    "version": 2
   },
   "file_extension": ".py",
   "mimetype": "text/x-python",
   "name": "python",
   "nbconvert_exporter": "python",
   "pygments_lexer": "ipython2",
   "version": "2.7.6"
  }
 },
 "nbformat": 4,
 "nbformat_minor": 0
}