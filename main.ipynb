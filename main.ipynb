{
 "cells": [
  {
   "cell_type": "code",
   "execution_count": 412,
   "outputs": [],
   "source": [
    "def dif(x,y):\n",
    "   if isinstance(x, float) | isinstance(x, int) & isinstance(y, float) | isinstance(y, int):\n",
    "                x0= 2*x*y - y**2\n",
    "                y0= x**2 - 2*x*y\n",
    "                z= [x0,y0]\n",
    "                print(z)\n",
    "   else:\n",
    "        print(\"Only int or float allowed\")\n"
   ],
   "metadata": {
    "collapsed": false,
    "pycharm": {
     "name": "#%%\n"
    }
   }
  },
  {
   "cell_type": "code",
   "execution_count": 413,
   "outputs": [
    {
     "name": "stdout",
     "output_type": "stream",
     "text": [
      "[1, -1]\n"
     ]
    }
   ],
   "source": [
    "dif(1,1)"
   ],
   "metadata": {
    "collapsed": false,
    "pycharm": {
     "name": "#%%\n"
    }
   }
  },
  {
   "cell_type": "code",
   "execution_count": 410,
   "outputs": [
    {
     "name": "stdout",
     "output_type": "stream",
     "text": [
      "Only int or float allowed\n"
     ]
    }
   ],
   "source": [
    "dif(\"a\",\"b\")"
   ],
   "metadata": {
    "collapsed": false,
    "pycharm": {
     "name": "#%%\n"
    }
   }
  },
  {
   "cell_type": "code",
   "execution_count": 414,
   "outputs": [
    {
     "name": "stdout",
     "output_type": "stream",
     "text": [
      "[-1.8000000000000007, -5.76]\n"
     ]
    }
   ],
   "source": [
    "dif(1.2,3)"
   ],
   "metadata": {
    "collapsed": false,
    "pycharm": {
     "name": "#%%\n"
    }
   }
  }
 ],
 "metadata": {
  "kernelspec": {
   "display_name": "Python 3",
   "language": "python",
   "name": "python3"
  },
  "language_info": {
   "codemirror_mode": {
    "name": "ipython",
    "version": 2
   },
   "file_extension": ".py",
   "mimetype": "text/x-python",
   "name": "python",
   "nbconvert_exporter": "python",
   "pygments_lexer": "ipython2",
   "version": "2.7.6"
  }
 },
 "nbformat": 4,
 "nbformat_minor": 0
}