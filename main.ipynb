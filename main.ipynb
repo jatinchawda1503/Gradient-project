{
 "cells": [
  {
   "cell_type": "code",
   "execution_count": 396,
   "outputs": [],
   "source": [
    "import sympy as sym\n",
    "from sympy import *\n",
    "x,y = sym.symbols('x y')\n",
    "eq = x**2*y-x*y**2\n",
    "\n",
    "dx = diff(eq,x)\n",
    "dy = diff(eq,y)\n",
    "\n",
    "\n",
    "def dif(x0,y0):\n",
    "    if isinstance(x0, float) | isinstance(x0, int) & isinstance(y0, float) | isinstance(y0, int):\n",
    "        sol_x=dx.evalf(2,subs={x: x0, y:y0})\n",
    "        sol_y = dy.evalf(2,subs={x: x0, y:y0})\n",
    "        sol = sol_x,sol_y\n",
    "        return sol\n",
    "    else:\n",
    "        print(\"Only int or float allowed\")"
   ],
   "metadata": {
    "collapsed": false,
    "pycharm": {
     "name": "#%%\n"
    }
   }
  },
  {
   "cell_type": "code",
   "execution_count": 391,
   "outputs": [
    {
     "data": {
      "text/plain": "(1.0, -1.0)"
     },
     "execution_count": 391,
     "metadata": {},
     "output_type": "execute_result"
    }
   ],
   "source": [
    "dif(1,1)"
   ],
   "metadata": {
    "collapsed": false,
    "pycharm": {
     "name": "#%%\n"
    }
   }
  },
  {
   "cell_type": "code",
   "execution_count": 388,
   "outputs": [
    {
     "name": "stdout",
     "output_type": "stream",
     "text": [
      "Only int or float allowed\n"
     ]
    }
   ],
   "source": [
    "dif(\"a\",\"b\")"
   ],
   "metadata": {
    "collapsed": false,
    "pycharm": {
     "name": "#%%\n"
    }
   }
  },
  {
   "cell_type": "code",
   "execution_count": 393,
   "outputs": [
    {
     "data": {
      "text/plain": "(-1.8, -5.8)"
     },
     "execution_count": 393,
     "metadata": {},
     "output_type": "execute_result"
    }
   ],
   "source": [
    "dif(1.2,3)"
   ],
   "metadata": {
    "collapsed": false,
    "pycharm": {
     "name": "#%%\n"
    }
   }
  }
 ],
 "metadata": {
  "kernelspec": {
   "display_name": "Python 3",
   "language": "python",
   "name": "python3"
  },
  "language_info": {
   "codemirror_mode": {
    "name": "ipython",
    "version": 2
   },
   "file_extension": ".py",
   "mimetype": "text/x-python",
   "name": "python",
   "nbconvert_exporter": "python",
   "pygments_lexer": "ipython2",
   "version": "2.7.6"
  }
 },
 "nbformat": 4,
 "nbformat_minor": 0
}